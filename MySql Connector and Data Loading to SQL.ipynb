{
 "cells": [
  {
   "cell_type": "code",
   "execution_count": 48,
   "id": "b1d9eab7-f9df-4b4f-872d-cfdc7015aa6a",
   "metadata": {},
   "outputs": [
    {
     "name": "stdout",
     "output_type": "stream",
     "text": [
      "Requirement already satisfied: mysql-connector-python in c:\\users\\abhishek thakur\\anaconda3\\lib\\site-packages (9.0.0)\n",
      "Note: you may need to restart the kernel to use updated packages.\n"
     ]
    }
   ],
   "source": [
    "pip install mysql-connector-python"
   ]
  },
  {
   "cell_type": "markdown",
   "id": "ac1be037-c927-4629-a012-8f2cb2ce741f",
   "metadata": {},
   "source": [
    "**The MySQL Connector is an Python library provided by MySQL to connect and interact with a MySQL database. \n",
    "It allows you to execute SQL queries, fetch results, and manage database transactions programmatically.**"
   ]
  },
  {
   "cell_type": "code",
   "execution_count": 49,
   "id": "d00b4235-bcf0-4859-b7e1-4903f33e0b32",
   "metadata": {},
   "outputs": [],
   "source": [
    "import mysql.connector"
   ]
  },
  {
   "cell_type": "code",
   "execution_count": 50,
   "id": "ecf73caa-10f9-4720-a35a-d59821d7d9e1",
   "metadata": {},
   "outputs": [],
   "source": [
    "import pandas as pd"
   ]
  },
  {
   "cell_type": "markdown",
   "id": "7c60207d-ba48-4df5-99eb-7730f77e80e4",
   "metadata": {},
   "source": [
    "**Connecting to MySQL**"
   ]
  },
  {
   "cell_type": "code",
   "execution_count": 51,
   "id": "e492f4af-cdb5-46ad-891f-0714da06a1f5",
   "metadata": {},
   "outputs": [],
   "source": [
    "host = 'localhost'\n",
    "user = 'root'\n",
    "password = \"-------\" - use your password here\n",
    "database1 = 'college'\n",
    "database2 = 'painting'"
   ]
  },
  {
   "cell_type": "code",
   "execution_count": 52,
   "id": "0012eeaf-2e17-46e3-8173-19bf4dd0e8f5",
   "metadata": {},
   "outputs": [],
   "source": [
    "connection = mysql.connector.connect(user = user, host = host, password = password, database = database1)"
   ]
  },
  {
   "cell_type": "markdown",
   "id": "ff121509-6b97-4de3-9a62-faba017d047d",
   "metadata": {},
   "source": [
    "#### CREATE A CURSOR\n",
    "- A cursor is an object used to interact with the database. \n",
    "- It serves as an intermediary between your Python program and the database, enabling you to execute SQL queries and retrieve results."
   ]
  },
  {
   "cell_type": "code",
   "execution_count": 53,
   "id": "aea6e4a1-88c1-40b0-9a65-36e26e175f24",
   "metadata": {},
   "outputs": [],
   "source": [
    "cursor = connection.cursor()"
   ]
  },
  {
   "cell_type": "code",
   "execution_count": 54,
   "id": "ea2c6b34-5d62-4a94-b8cc-426fc96145c3",
   "metadata": {},
   "outputs": [],
   "source": [
    "query = \"select * from student\"   # creatting a query"
   ]
  },
  {
   "cell_type": "code",
   "execution_count": 55,
   "id": "9e611f8f-5046-40f0-842a-3a7c54dba4f9",
   "metadata": {},
   "outputs": [],
   "source": [
    "cursor.execute(query)           # executing it"
   ]
  },
  {
   "cell_type": "code",
   "execution_count": 56,
   "id": "bbee1351-9ec3-4904-aea2-871097d0f14f",
   "metadata": {},
   "outputs": [
    {
     "data": {
      "text/plain": [
       "('ROLLNO', 'FULL_NAME', 'MARKS', 'CITY', 'AGE')"
      ]
     },
     "execution_count": 56,
     "metadata": {},
     "output_type": "execute_result"
    }
   ],
   "source": [
    "cursor.column_names      #checking coulumns name"
   ]
  },
  {
   "cell_type": "code",
   "execution_count": 57,
   "id": "561e7345-d440-4fbf-bf5b-72feec8c1345",
   "metadata": {},
   "outputs": [],
   "source": [
    "data = cursor.fetchall()   # fetching all details"
   ]
  },
  {
   "cell_type": "markdown",
   "id": "23e9c766-56f2-4cfd-b9eb-978ba790f634",
   "metadata": {},
   "source": [
    "## Putting all data in a DataFrame (allowing easy data manipulation and analysis)"
   ]
  },
  {
   "cell_type": "raw",
   "id": "71a4d44b-50de-4f5e-90b1-f09ef613a244",
   "metadata": {},
   "source": [
    "- A DataFrame is a table-like data structure that organizes data into rows and columns."
   ]
  },
  {
   "cell_type": "code",
   "execution_count": 58,
   "id": "cdd3090b-a3c9-4cb2-b40c-c39cc30116de",
   "metadata": {},
   "outputs": [
    {
     "data": {
      "text/html": [
       "<div>\n",
       "<style scoped>\n",
       "    .dataframe tbody tr th:only-of-type {\n",
       "        vertical-align: middle;\n",
       "    }\n",
       "\n",
       "    .dataframe tbody tr th {\n",
       "        vertical-align: top;\n",
       "    }\n",
       "\n",
       "    .dataframe thead th {\n",
       "        text-align: right;\n",
       "    }\n",
       "</style>\n",
       "<table border=\"1\" class=\"dataframe\">\n",
       "  <thead>\n",
       "    <tr style=\"text-align: right;\">\n",
       "      <th></th>\n",
       "      <th>ROLLNO</th>\n",
       "      <th>FULL_NAME</th>\n",
       "      <th>MARKS</th>\n",
       "      <th>CITY</th>\n",
       "      <th>AGE</th>\n",
       "    </tr>\n",
       "  </thead>\n",
       "  <tbody>\n",
       "    <tr>\n",
       "      <th>0</th>\n",
       "      <td>102</td>\n",
       "      <td>Bhumika</td>\n",
       "      <td>93</td>\n",
       "      <td>Mumbai</td>\n",
       "      <td>19</td>\n",
       "    </tr>\n",
       "    <tr>\n",
       "      <th>1</th>\n",
       "      <td>103</td>\n",
       "      <td>Chetan</td>\n",
       "      <td>85</td>\n",
       "      <td>Mumbai</td>\n",
       "      <td>19</td>\n",
       "    </tr>\n",
       "    <tr>\n",
       "      <th>2</th>\n",
       "      <td>104</td>\n",
       "      <td>Dhruv</td>\n",
       "      <td>96</td>\n",
       "      <td>Delhi</td>\n",
       "      <td>19</td>\n",
       "    </tr>\n",
       "    <tr>\n",
       "      <th>3</th>\n",
       "      <td>106</td>\n",
       "      <td>Farah</td>\n",
       "      <td>82</td>\n",
       "      <td>Delhi</td>\n",
       "      <td>19</td>\n",
       "    </tr>\n",
       "  </tbody>\n",
       "</table>\n",
       "</div>"
      ],
      "text/plain": [
       "   ROLLNO FULL_NAME  MARKS    CITY  AGE\n",
       "0     102   Bhumika     93  Mumbai   19\n",
       "1     103    Chetan     85  Mumbai   19\n",
       "2     104     Dhruv     96   Delhi   19\n",
       "3     106     Farah     82   Delhi   19"
      ]
     },
     "execution_count": 58,
     "metadata": {},
     "output_type": "execute_result"
    }
   ],
   "source": [
    "pd.DataFrame(data, columns = cursor.column_names)"
   ]
  },
  {
   "cell_type": "code",
   "execution_count": 59,
   "id": "1348b73a-db9d-4590-91ff-a8231745df73",
   "metadata": {},
   "outputs": [],
   "source": [
    "df = pd.DataFrame(data, columns = cursor.column_names)"
   ]
  },
  {
   "cell_type": "code",
   "execution_count": 60,
   "id": "e9b9697f-d094-4509-ad6a-a2aad171a7c1",
   "metadata": {},
   "outputs": [
    {
     "data": {
      "text/plain": [
       "True"
      ]
     },
     "execution_count": 60,
     "metadata": {},
     "output_type": "execute_result"
    }
   ],
   "source": [
    "cursor.close()"
   ]
  },
  {
   "cell_type": "markdown",
   "id": "6268e202-ecbc-4cb6-a022-4667bf8c24c1",
   "metadata": {},
   "source": [
    "## Loading multiple CSV files into a MySQL database using SQLAlchemy"
   ]
  },
  {
   "cell_type": "code",
   "execution_count": 61,
   "id": "83a2fd3c-4b4d-4bf4-857f-0da42bd25432",
   "metadata": {},
   "outputs": [],
   "source": [
    "from sqlalchemy import create_engine "
   ]
  },
  {
   "cell_type": "markdown",
   "id": "2423b719-09b4-4cc0-8588-9c29b22558e0",
   "metadata": {},
   "source": [
    "Step1: Importing **create_engine**  to establish a connection to the MySQL database"
   ]
  },
  {
   "cell_type": "code",
   "execution_count": 62,
   "id": "fff367be-0491-468f-9964-07d838e61447",
   "metadata": {},
   "outputs": [],
   "source": [
    "engine = create_engine(f\"mysql+pymysql://{user}:{password}@{host}/{database2}\")"
   ]
  },
  {
   "cell_type": "markdown",
   "id": "dd7bb750-10c6-418f-b10c-bf3a38eeecc4",
   "metadata": {},
   "source": [
    "Step2: Building Database Connection"
   ]
  },
  {
   "cell_type": "code",
   "execution_count": 63,
   "id": "3bb9bb28-3c19-40f2-ab8c-00e81c4b5857",
   "metadata": {},
   "outputs": [],
   "source": [
    "files = ['artist', 'canvas_size', 'image_link', 'museum_hours', 'museum', 'product_size', 'subject','work']"
   ]
  },
  {
   "cell_type": "markdown",
   "id": "57808158-9569-461a-8fc2-1106c245c8af",
   "metadata": {},
   "source": [
    "Step3: Listing files name to be loaded"
   ]
  },
  {
   "cell_type": "markdown",
   "id": "f66caaf0-42b4-4633-8206-83e5be6c1a59",
   "metadata": {},
   "source": [
    "### Iterating Through Files - Last Step"
   ]
  },
  {
   "cell_type": "code",
   "execution_count": 64,
   "id": "52d928bf-ebd8-4aef-b52b-7ffe42ed6559",
   "metadata": {},
   "outputs": [],
   "source": [
    "for file in files:\n",
    "    dataframe = pd.read_csv(rf\"C:\\Users\\Abhishek Thakur\\Downloads\\{file}.csv\")\n",
    "    dataframe.to_sql(file, con = engine, if_exists='replace', index=False)"
   ]
  },
  {
   "cell_type": "markdown",
   "id": "5804da5e-67fe-4e8f-b815-ef96dc1f1f8a",
   "metadata": {},
   "source": [
    "- **Reading CSV**: Each file from the specified folder is read into a DataFrame.\n",
    "- **Writing to SQL**: The to_sql method is used to write the DataFrame into the MySQL database:\n",
    "- **file**: The table name in the database (same as the file name).\n",
    "- **con=engine**: Specifies the database connection.\n",
    "- **if_exists** ='replace': Replaces the table if it already exists.\n",
    "- **index=False**: Prevents the DataFrame index from being written as a column in the table."
   ]
  },
  {
   "cell_type": "code",
   "execution_count": 65,
   "id": "0c2bc010-8a0a-4f66-9c6b-af0bfabc8655",
   "metadata": {},
   "outputs": [
    {
     "name": "stdin",
     "output_type": "stream",
     "text": [
      "Type THANK YOU THANK YOU\n"
     ]
    },
    {
     "name": "stdout",
     "output_type": "stream",
     "text": [
      "Most Welcome\n"
     ]
    }
   ],
   "source": [
    "a = input(\"Type THANK YOU\")\n",
    "b = \"THANK YOU\"\n",
    "if a == b:\n",
    "    print(\"Most Welcome\")\n",
    "else:\n",
    "    print(\"See you later\")"
   ]
  },
  {
   "cell_type": "code",
   "execution_count": null,
   "id": "a41c8233-9ef0-4cfa-8a3b-f8bb1f95735e",
   "metadata": {},
   "outputs": [],
   "source": []
  }
 ],
 "metadata": {
  "kernelspec": {
   "display_name": "Python 3 (ipykernel)",
   "language": "python",
   "name": "python3"
  },
  "language_info": {
   "codemirror_mode": {
    "name": "ipython",
    "version": 3
   },
   "file_extension": ".py",
   "mimetype": "text/x-python",
   "name": "python",
   "nbconvert_exporter": "python",
   "pygments_lexer": "ipython3",
   "version": "3.11.7"
  }
 },
 "nbformat": 4,
 "nbformat_minor": 5
}
